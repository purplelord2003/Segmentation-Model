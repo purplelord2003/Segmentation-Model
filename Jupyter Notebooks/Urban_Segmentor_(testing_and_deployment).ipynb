{
  "cells": [
    {
      "cell_type": "markdown",
      "id": "0f11d835-8f7c-4ffe-98e4-5750da2bd53e",
      "metadata": {
        "id": "0f11d835-8f7c-4ffe-98e4-5750da2bd53e"
      },
      "source": [
        "## In this notebook, we will be testing the model real-time to check out its inference speed and the resulting frames per second (fps). After which, we will deploy a Gradio demo on Hugging Face spaces. The demo will accept both image and video inputs with the following parameters that can be adjusted (IoU threshold for Non-Maximum Suppression (NMS), confidence threshold, classes to be detected and whether or not to display the masks only.\n",
        "\n",
        "## Deployed Gradio Demo link: https://huggingface.co/spaces/purplelord2003/Urban_Segmentor"
      ]
    },
    {
      "cell_type": "markdown",
      "id": "ae40a5de-b71a-407e-b4fa-4d8a02308df5",
      "metadata": {
        "id": "ae40a5de-b71a-407e-b4fa-4d8a02308df5"
      },
      "source": [
        "### Testing the model's speed in real-time: We will try out the model using our webcam as well as an imported video. Note that this may not work in Google Colab (I am running this notebook locally)."
      ]
    },
    {
      "cell_type": "code",
      "source": [
        "# Clone my repository\n",
        "!git clone https://github.com/purplelord2003/Segmentation-Model"
      ],
      "metadata": {
        "colab": {
          "base_uri": "https://localhost:8080/"
        },
        "id": "EgaFgjM-lYBR",
        "outputId": "ee8f6ff8-5e81-464d-ae61-4538fbc33e59"
      },
      "id": "EgaFgjM-lYBR",
      "execution_count": null,
      "outputs": [
        {
          "output_type": "stream",
          "name": "stdout",
          "text": [
            "Cloning into 'Segmentation-Model'...\n",
            "remote: Enumerating objects: 61, done.\u001b[K\n",
            "remote: Counting objects: 100% (61/61), done.\u001b[K\n",
            "remote: Compressing objects: 100% (54/54), done.\u001b[K\n",
            "remote: Total 61 (delta 13), reused 22 (delta 4), pack-reused 0\u001b[K\n",
            "Receiving objects: 100% (61/61), 49.57 MiB | 18.52 MiB/s, done.\n",
            "Resolving deltas: 100% (13/13), done.\n",
            "Filtering content: 100% (4/4), 265.69 MiB | 33.34 MiB/s, done.\n"
          ]
        }
      ]
    },
    {
      "cell_type": "code",
      "source": [
        "pip install ultralytics"
      ],
      "metadata": {
        "colab": {
          "base_uri": "https://localhost:8080/"
        },
        "id": "-e6Cr2OfluAF",
        "outputId": "449d953d-8e79-41a9-94d1-993201843871"
      },
      "id": "-e6Cr2OfluAF",
      "execution_count": null,
      "outputs": [
        {
          "output_type": "stream",
          "name": "stdout",
          "text": [
            "Collecting ultralytics\n",
            "  Downloading ultralytics-8.1.15-py3-none-any.whl (715 kB)\n",
            "\u001b[2K     \u001b[90m━━━━━━━━━━━━━━━━━━━━━━━━━━━━━━━━━━━━━━━━\u001b[0m \u001b[32m715.1/715.1 kB\u001b[0m \u001b[31m4.8 MB/s\u001b[0m eta \u001b[36m0:00:00\u001b[0m\n",
            "\u001b[?25hRequirement already satisfied: matplotlib>=3.3.0 in /usr/local/lib/python3.10/dist-packages (from ultralytics) (3.7.1)\n",
            "Requirement already satisfied: opencv-python>=4.6.0 in /usr/local/lib/python3.10/dist-packages (from ultralytics) (4.8.0.76)\n",
            "Requirement already satisfied: pillow>=7.1.2 in /usr/local/lib/python3.10/dist-packages (from ultralytics) (9.4.0)\n",
            "Requirement already satisfied: pyyaml>=5.3.1 in /usr/local/lib/python3.10/dist-packages (from ultralytics) (6.0.1)\n",
            "Requirement already satisfied: requests>=2.23.0 in /usr/local/lib/python3.10/dist-packages (from ultralytics) (2.31.0)\n",
            "Requirement already satisfied: scipy>=1.4.1 in /usr/local/lib/python3.10/dist-packages (from ultralytics) (1.11.4)\n",
            "Requirement already satisfied: torch>=1.8.0 in /usr/local/lib/python3.10/dist-packages (from ultralytics) (2.1.0+cu121)\n",
            "Requirement already satisfied: torchvision>=0.9.0 in /usr/local/lib/python3.10/dist-packages (from ultralytics) (0.16.0+cu121)\n",
            "Requirement already satisfied: tqdm>=4.64.0 in /usr/local/lib/python3.10/dist-packages (from ultralytics) (4.66.2)\n",
            "Requirement already satisfied: psutil in /usr/local/lib/python3.10/dist-packages (from ultralytics) (5.9.5)\n",
            "Requirement already satisfied: py-cpuinfo in /usr/local/lib/python3.10/dist-packages (from ultralytics) (9.0.0)\n",
            "Collecting thop>=0.1.1 (from ultralytics)\n",
            "  Downloading thop-0.1.1.post2209072238-py3-none-any.whl (15 kB)\n",
            "Requirement already satisfied: pandas>=1.1.4 in /usr/local/lib/python3.10/dist-packages (from ultralytics) (1.5.3)\n",
            "Requirement already satisfied: seaborn>=0.11.0 in /usr/local/lib/python3.10/dist-packages (from ultralytics) (0.13.1)\n",
            "Requirement already satisfied: contourpy>=1.0.1 in /usr/local/lib/python3.10/dist-packages (from matplotlib>=3.3.0->ultralytics) (1.2.0)\n",
            "Requirement already satisfied: cycler>=0.10 in /usr/local/lib/python3.10/dist-packages (from matplotlib>=3.3.0->ultralytics) (0.12.1)\n",
            "Requirement already satisfied: fonttools>=4.22.0 in /usr/local/lib/python3.10/dist-packages (from matplotlib>=3.3.0->ultralytics) (4.48.1)\n",
            "Requirement already satisfied: kiwisolver>=1.0.1 in /usr/local/lib/python3.10/dist-packages (from matplotlib>=3.3.0->ultralytics) (1.4.5)\n",
            "Requirement already satisfied: numpy>=1.20 in /usr/local/lib/python3.10/dist-packages (from matplotlib>=3.3.0->ultralytics) (1.25.2)\n",
            "Requirement already satisfied: packaging>=20.0 in /usr/local/lib/python3.10/dist-packages (from matplotlib>=3.3.0->ultralytics) (23.2)\n",
            "Requirement already satisfied: pyparsing>=2.3.1 in /usr/local/lib/python3.10/dist-packages (from matplotlib>=3.3.0->ultralytics) (3.1.1)\n",
            "Requirement already satisfied: python-dateutil>=2.7 in /usr/local/lib/python3.10/dist-packages (from matplotlib>=3.3.0->ultralytics) (2.8.2)\n",
            "Requirement already satisfied: pytz>=2020.1 in /usr/local/lib/python3.10/dist-packages (from pandas>=1.1.4->ultralytics) (2023.4)\n",
            "Requirement already satisfied: charset-normalizer<4,>=2 in /usr/local/lib/python3.10/dist-packages (from requests>=2.23.0->ultralytics) (3.3.2)\n",
            "Requirement already satisfied: idna<4,>=2.5 in /usr/local/lib/python3.10/dist-packages (from requests>=2.23.0->ultralytics) (3.6)\n",
            "Requirement already satisfied: urllib3<3,>=1.21.1 in /usr/local/lib/python3.10/dist-packages (from requests>=2.23.0->ultralytics) (2.0.7)\n",
            "Requirement already satisfied: certifi>=2017.4.17 in /usr/local/lib/python3.10/dist-packages (from requests>=2.23.0->ultralytics) (2024.2.2)\n",
            "Requirement already satisfied: filelock in /usr/local/lib/python3.10/dist-packages (from torch>=1.8.0->ultralytics) (3.13.1)\n",
            "Requirement already satisfied: typing-extensions in /usr/local/lib/python3.10/dist-packages (from torch>=1.8.0->ultralytics) (4.9.0)\n",
            "Requirement already satisfied: sympy in /usr/local/lib/python3.10/dist-packages (from torch>=1.8.0->ultralytics) (1.12)\n",
            "Requirement already satisfied: networkx in /usr/local/lib/python3.10/dist-packages (from torch>=1.8.0->ultralytics) (3.2.1)\n",
            "Requirement already satisfied: jinja2 in /usr/local/lib/python3.10/dist-packages (from torch>=1.8.0->ultralytics) (3.1.3)\n",
            "Requirement already satisfied: fsspec in /usr/local/lib/python3.10/dist-packages (from torch>=1.8.0->ultralytics) (2023.6.0)\n",
            "Requirement already satisfied: triton==2.1.0 in /usr/local/lib/python3.10/dist-packages (from torch>=1.8.0->ultralytics) (2.1.0)\n",
            "Requirement already satisfied: six>=1.5 in /usr/local/lib/python3.10/dist-packages (from python-dateutil>=2.7->matplotlib>=3.3.0->ultralytics) (1.16.0)\n",
            "Requirement already satisfied: MarkupSafe>=2.0 in /usr/local/lib/python3.10/dist-packages (from jinja2->torch>=1.8.0->ultralytics) (2.1.5)\n",
            "Requirement already satisfied: mpmath>=0.19 in /usr/local/lib/python3.10/dist-packages (from sympy->torch>=1.8.0->ultralytics) (1.3.0)\n",
            "Installing collected packages: thop, ultralytics\n",
            "Successfully installed thop-0.1.1.post2209072238 ultralytics-8.1.15\n"
          ]
        }
      ]
    },
    {
      "cell_type": "code",
      "execution_count": null,
      "id": "7aac4d67-7e0e-4106-af25-1627a4e80acb",
      "metadata": {
        "id": "7aac4d67-7e0e-4106-af25-1627a4e80acb"
      },
      "outputs": [],
      "source": [
        "### Testing using our webcam! This gives an output file. (note this may not work in Google Colab) ###\n",
        "\n",
        "import cv2\n",
        "from ultralytics import YOLO\n",
        "from timeit import default_timer as timer\n",
        "\n",
        "model = YOLO(\"Segmentation-Model/Demo Preparation/best.pt\")  # segmentation model\n",
        "\n",
        "cap = cv2.VideoCapture(0)\n",
        "w, h, fps = (int(cap.get(x)) for x in (cv2.CAP_PROP_FRAME_WIDTH, cv2.CAP_PROP_FRAME_HEIGHT, cv2.CAP_PROP_FPS))\n",
        "\n",
        "out = cv2.VideoWriter('webcam.mp4', cv2.VideoWriter_fourcc(*'mp4v'), fps, (w, h))\n",
        "\n",
        "while cap.isOpened():\n",
        "    success, frame = cap.read()\n",
        "\n",
        "    if success:\n",
        "        # Start timer\n",
        "        start_time = timer()\n",
        "\n",
        "        # Run model inference on the frame\n",
        "        results = model.predict(frame, iou=0.5)\n",
        "\n",
        "        # Visualize the results on the frame\n",
        "        annotated_frame = results[0].plot()\n",
        "\n",
        "        # End timer\n",
        "        end_time = timer()\n",
        "\n",
        "        # Calculate and display fps\n",
        "        frames_per_second = round(1 / (end_time - start_time))\n",
        "        annotated_frame = cv2.putText(annotated_frame, f'FPS: {frames_per_second}', (30, 100), cv2.FONT_HERSHEY_SIMPLEX,\n",
        "                                      2, (0, 0, 255), 2, cv2.LINE_AA)\n",
        "\n",
        "        # Write annotated frame to outfile\n",
        "        out.write(annotated_frame)\n",
        "\n",
        "        # Open outfile, displaying annotated image\n",
        "        cv2.imshow(\"instance-segmentation\", annotated_frame)\n",
        "\n",
        "        # Quits when the video ends or when 'q' is pressed\n",
        "        if cv2.waitKey(1) & 0xFF == ord('q'):\n",
        "            out.release()\n",
        "            cap.release()\n",
        "            cv2.destroyAllWindows()\n",
        "            break"
      ]
    },
    {
      "cell_type": "code",
      "source": [
        "# Display output (open in YouTube if needed) - also available in my repo\n",
        "from IPython import display\n",
        "display.YouTubeVideo(\"gW-g1obeab0\")"
      ],
      "metadata": {
        "colab": {
          "base_uri": "https://localhost:8080/",
          "height": 321
        },
        "id": "7ovbYvdywFv0",
        "outputId": "972b0b61-b490-480a-fb06-c0e2455b12d7"
      },
      "id": "7ovbYvdywFv0",
      "execution_count": null,
      "outputs": [
        {
          "output_type": "execute_result",
          "data": {
            "text/plain": [
              "<IPython.lib.display.YouTubeVideo at 0x7db738378eb0>"
            ],
            "text/html": [
              "\n",
              "        <iframe\n",
              "            width=\"400\"\n",
              "            height=\"300\"\n",
              "            src=\"https://www.youtube.com/embed/gW-g1obeab0\"\n",
              "            frameborder=\"0\"\n",
              "            allowfullscreen\n",
              "            \n",
              "        ></iframe>\n",
              "        "
            ],
            "image/jpeg": "[encoded data removed]"
          },
          "metadata": {},
          "execution_count": 4
        }
      ]
    },
    {
      "cell_type": "code",
      "execution_count": null,
      "id": "d62cd8c1-153f-4eca-807c-86c9c1c27ceb",
      "metadata": {
        "id": "d62cd8c1-153f-4eca-807c-86c9c1c27ceb"
      },
      "outputs": [],
      "source": [
        "### Testing using an imported video! This gives an output file. (note that this may not work in Google Colab) ###\n",
        "\n",
        "import cv2\n",
        "from ultralytics import YOLO\n",
        "from timeit import default_timer as timer\n",
        "\n",
        "model = YOLO(\"Segmentation-Model/Demo Preparation/best.pt\")  # segmentation model\n",
        "\n",
        "cap = cv2.VideoCapture(\"Example 1.mp4\")\n",
        "w, h, fps = (int(cap.get(x)) for x in (cv2.CAP_PROP_FRAME_WIDTH, cv2.CAP_PROP_FRAME_HEIGHT, cv2.CAP_PROP_FPS))\n",
        "\n",
        "out = cv2.VideoWriter('instance-segmentation.mp4', cv2.VideoWriter_fourcc(*'mp4v'), fps, (w, h))\n",
        "\n",
        "while cap.isOpened():\n",
        "    success, frame = cap.read()\n",
        "\n",
        "    if success:\n",
        "        # Start timer\n",
        "        start_time = timer()\n",
        "\n",
        "        # Run model inference on the frame\n",
        "        results = model.predict(frame, iou=0.5)\n",
        "\n",
        "        # Visualize the results on the frame\n",
        "        annotated_frame = results[0].plot()\n",
        "\n",
        "        # End timer\n",
        "        end_time = timer()\n",
        "\n",
        "        # Calculate and display fps\n",
        "        frames_per_second = round(1 / (end_time - start_time))\n",
        "        annotated_frame = cv2.putText(annotated_frame, f'FPS: {frames_per_second}', (30, 100), cv2.FONT_HERSHEY_SIMPLEX,\n",
        "                                      2, (0, 0, 255), 2, cv2.LINE_AA)\n",
        "\n",
        "        # Write annotated frame to outfile\n",
        "        out.write(annotated_frame)\n",
        "\n",
        "        # Open outfile, displaying annotated image\n",
        "        cv2.imshow(\"instance-segmentation\", annotated_frame)\n",
        "\n",
        "        # Quits when 'q' is pressed\n",
        "        if cv2.waitKey(1) & 0xFF == ord('q'):\n",
        "            out.release()\n",
        "            cap.release()\n",
        "            cv2.destroyAllWindows()\n",
        "            break"
      ]
    },
    {
      "cell_type": "code",
      "source": [
        "# Display output (open in YouTube if needed) - also available in my repo\n",
        "display.YouTubeVideo(\"MlX9ESjrlZM\")"
      ],
      "metadata": {
        "colab": {
          "base_uri": "https://localhost:8080/",
          "height": 321
        },
        "id": "zqsW1UYHuwt-",
        "outputId": "f6cf495e-bc2c-4ff5-b9e4-a36235fb1501"
      },
      "id": "zqsW1UYHuwt-",
      "execution_count": null,
      "outputs": [
        {
          "output_type": "execute_result",
          "data": {
            "text/plain": [
              "<IPython.lib.display.YouTubeVideo at 0x7db64e91fd30>"
            ],
            "text/html": [
              "\n",
              "        <iframe\n",
              "            width=\"400\"\n",
              "            height=\"300\"\n",
              "            src=\"https://www.youtube.com/embed/MlX9ESjrlZM\"\n",
              "            frameborder=\"0\"\n",
              "            allowfullscreen\n",
              "            \n",
              "        ></iframe>\n",
              "        "
            ],
            "image/jpeg": "[encoded data removed]"
          },
          "metadata": {},
          "execution_count": 6
        }
      ]
    },
    {
      "cell_type": "markdown",
      "source": [
        "### It seems that we achieve a real-time fps of about 12 fps for webcam and drops to about 8 fps for the imported video (probably due to a much higher detections and masks in the imported video). Ideally, we want the fps to be as high as possible (nearer to 60) but this model was run on my laptop's CPU and thus, the deployment fps on a GPU would probably be much closer to 60fps."
      ],
      "metadata": {
        "id": "_F42yNMWwTeK"
      },
      "id": "_F42yNMWwTeK"
    },
    {
      "cell_type": "markdown",
      "source": [
        "# Deploying model to Hugging Face Spaces using a Gradio demo"
      ],
      "metadata": {
        "id": "tym-SAQixMRb"
      },
      "id": "tym-SAQixMRb"
    },
    {
      "cell_type": "code",
      "execution_count": null,
      "id": "393863ad-e30a-43d2-8ca8-cf9c889d4740",
      "metadata": {
        "id": "393863ad-e30a-43d2-8ca8-cf9c889d4740"
      },
      "outputs": [],
      "source": [
        "from pathlib import Path\n",
        "\n",
        "\n",
        "# Create demos folder\n",
        "urban_segmentor_demo_path = Path(\"demos/urban_segmentor/\")\n",
        "\n",
        "if urban_segmentor_demo_path.exists():\n",
        "  print(\"Directory already exists\")\n",
        "\n",
        "else:\n",
        "  urban_segmentor_demo_path.mkdir(parents=True,\n",
        "                                 exist_ok=True)"
      ]
    },
    {
      "cell_type": "markdown",
      "source": [
        "## Getting examples\n",
        "I have already collected the examples for image and video instance segmentation.\n",
        "For the image segmentation, I used 3 images from the testing dataset and an image I found online.\n",
        "For the video segmentation, I used 3 videos I found online."
      ],
      "metadata": {
        "id": "MsvXpmDFyfL3"
      },
      "id": "MsvXpmDFyfL3"
    },
    {
      "cell_type": "code",
      "source": [
        "# Get examples directory (already collated in my repo)\n",
        "!mv \"Segmentation-Model/Demo Preparation/Examples\" \"demos/urban_segmentor\""
      ],
      "metadata": {
        "id": "kSvJUdhvxREU"
      },
      "id": "kSvJUdhvxREU",
      "execution_count": null,
      "outputs": []
    },
    {
      "cell_type": "markdown",
      "id": "18b01e6f-0b67-42fe-a270-7c54be2aad95",
      "metadata": {
        "id": "18b01e6f-0b67-42fe-a270-7c54be2aad95"
      },
      "source": [
        "## Writing requirements.txt"
      ]
    },
    {
      "cell_type": "code",
      "execution_count": null,
      "id": "c308c34d-662d-4a6c-8a67-531ec231356f",
      "metadata": {
        "colab": {
          "base_uri": "https://localhost:8080/"
        },
        "id": "c308c34d-662d-4a6c-8a67-531ec231356f",
        "outputId": "49724811-796f-44ad-a810-cbdf3e9371e9"
      },
      "outputs": [
        {
          "output_type": "stream",
          "name": "stdout",
          "text": [
            "Writing demos/urban_segmentor/requirements.txt\n"
          ]
        }
      ],
      "source": [
        "%%writefile demos/urban_segmentor/requirements.txt\n",
        "torch==2.2.0\n",
        "cv2==4.9.0\n",
        "ultralytics==8.1.13\n",
        "gradio==4.19.0"
      ]
    },
    {
      "cell_type": "markdown",
      "id": "3a8f8ed5-9c37-45aa-99a1-190a4be9aff9",
      "metadata": {
        "id": "3a8f8ed5-9c37-45aa-99a1-190a4be9aff9"
      },
      "source": [
        "## Write app.py"
      ]
    },
    {
      "cell_type": "code",
      "execution_count": null,
      "id": "3ab916ce-37c2-4f84-8793-1b1d1933934f",
      "metadata": {
        "colab": {
          "base_uri": "https://localhost:8080/"
        },
        "id": "3ab916ce-37c2-4f84-8793-1b1d1933934f",
        "outputId": "5933debd-5218-4f86-a0d8-171b8d71042e"
      },
      "outputs": [
        {
          "output_type": "stream",
          "name": "stdout",
          "text": [
            "Writing demos/urban_segmentor/app.py\n"
          ]
        }
      ],
      "source": [
        "%%writefile demos/urban_segmentor/app.py\n",
        "import cv2\n",
        "import gradio as gr\n",
        "import ultralytics\n",
        "import os\n",
        "from ultralytics import YOLO\n",
        "from typing import List\n",
        "\n",
        "# Create model with imported weights\n",
        "model = YOLO(\"best.pt\")\n",
        "model.to(\"cpu\") # Hugging Face Spaces offers free cpu only\n",
        "\n",
        "# Make class list\n",
        "classes =[\n",
        "'road',\n",
        "'sidewalk',\n",
        "'building',\n",
        "'wall',\n",
        "'fence',\n",
        "'pole',\n",
        "'traffic light',\n",
        "'traffic sign',\n",
        "'vegetation',\n",
        "'terrain',\n",
        "'sky',\n",
        "'person',\n",
        "'rider',\n",
        "'car',\n",
        "'truck',\n",
        "'bus',\n",
        "'train',\n",
        "'motorcycle',\n",
        "'bicycle',\n",
        "]\n",
        "\n",
        "\n",
        "# Prediction function for image\n",
        "def image_predict(image_input: gr.Image=None, image_iou_threshold: float=0.7, image_score_threshold: float=0.25,\n",
        "                  image_class_list: List[int]=None, image_show_masks_only: bool=False):\n",
        "\n",
        "    # Model makes predictions\n",
        "    results = model.predict(image_input, iou=image_iou_threshold, conf=image_score_threshold, classes=image_class_list)\n",
        "\n",
        "    # Annotate the predictions on the image\n",
        "    annotated_img = results[0].plot(line_width=2, boxes=not(image_show_masks_only))\n",
        "    annotated_img = annotated_img[:, :, ::-1] # inverting the colours back to PIL format\n",
        "\n",
        "    return annotated_img\n",
        "\n",
        "# Prediction function for video\n",
        "def video_predict(video_input: gr.Video=None, video_iou_threshold: float=0.7, video_score_threshold: float=0.25,\n",
        "                  video_class_list: List[int]=None, video_show_masks_only: bool=False):\n",
        "\n",
        "    # Open video\n",
        "    cap = cv2.VideoCapture(video_input)\n",
        "\n",
        "    w, h, fps = (int(cap.get(x)) for x in (cv2.CAP_PROP_FRAME_WIDTH, cv2.CAP_PROP_FRAME_HEIGHT, cv2.CAP_PROP_FPS))\n",
        "\n",
        "    # Gradio supports avc1\n",
        "    out = cv2.VideoWriter(\"output.mp4\", cv2.VideoWriter_fourcc(*'mp4v'), fps, (w, h))\n",
        "\n",
        "    # Loop through the video frames\n",
        "    while cap.isOpened():\n",
        "\n",
        "        # Read a frame from the video\n",
        "        success, frame = cap.read()\n",
        "\n",
        "        if success:\n",
        "            # Model makes predictions\n",
        "            results = model.predict(frame, iou=video_iou_threshold, conf=video_score_threshold, classes=video_class_list)\n",
        "\n",
        "            # Annotate the predictions on the frame\n",
        "            annotated_frame = results[0].plot(line_width=3, boxes=not(video_show_masks_only))\n",
        "\n",
        "            # Write the annotated frame to the outfile\n",
        "            out.write(annotated_frame)\n",
        "\n",
        "        else:\n",
        "            # Break the loop once video ends\n",
        "            break\n",
        "\n",
        "    # Release video capture\n",
        "    cap.release()\n",
        "\n",
        "    # Return the path to outfile\n",
        "    return \"output.mp4\"\n",
        "\n",
        "\n",
        "\n",
        "# Gradio interface\n",
        "\n",
        "\n",
        "with gr.Blocks() as demo:\n",
        "    gr.Markdown(\n",
        "        \"\"\"\n",
        "        # Urban Segmentor\n",
        "\n",
        "        Perform Instance Segmentation of an image or video! The model was created by training the [YOLOv8](https://docs.ultralytics.com/models/yolov8/) instance segmentation model on the [cityscapes dataset](https://www.cityscapes-dataset.com) which is a dataset on urban landscapes to perform instance segmentation for 19 classes (see options below). Trained at [Urban Segmentor (training).ipynb](https://colab.research.google.com/drive/1LjnUBLQ1y4mCEf9t-piHyEjE56BRC8I4#scrollTo=620ANSFqY77h)\n",
        "        Try to adjust [Intersection over Union (IoU) threshold](https://learnopencv.com/non-maximum-suppression-theory-and-implementation-in-pytorch/) to be lower if multiple detections of the same object detected. Try to adjust score threshold to be lower if desired object not detected. You can choose to detect/mask specific classes and also view masks only. Examples are defaulted at 0.7 IoU threshold and 0.25 scores threshold, detect all classes and view masks only set to False. You can download the output image/video to see all the labels clearly. Video prediction time can take several minutes (running on a slow free cpu).\n",
        "        \"\"\"\n",
        "               )\n",
        "    with gr.Tab(\"Image Instance Segmentation\"):\n",
        "        with gr.Row():\n",
        "            image_input = gr.Image(type=\"pil\", label=\"Input Image\")\n",
        "            image_output = gr.Image(type=\"pil\", label=\"Output Image\")\n",
        "        image_iou_threshold = gr.Slider(minimum=0, maximum=1, value=0.7, step=0.01, label=\"Intersection over Union (IoU) Threshold\")\n",
        "        image_score_threshold = gr.Slider(minimum=0, maximum=1, value=0.25, step=0.01, label=\"Score Threshold\")\n",
        "        image_class_list = gr.CheckboxGroup(label=\"Classes to detect for\", type=\"index\", interactive=True, value=classes,\n",
        "        choices=classes)\n",
        "        image_show_masks_only = gr.Checkbox(label=\"Show segmentation masks only? (Remove bounding boxes, labels and probabilites)\", interactive=True, value=False)\n",
        "        image_button = gr.Button(\"Submit\")\n",
        "        image_inputs_all = [image_input, image_iou_threshold, image_score_threshold, image_class_list, image_show_masks_only]\n",
        "        gr.Examples(examples=[[\"Examples/Images/\" + example] for example in os.listdir(\"Examples/Images\")], inputs=image_inputs_all, outputs=[image_output], cache_examples=True, fn=image_predict)\n",
        "\n",
        "    with gr.Tab(\"Video Instance Segmentation\"):\n",
        "        with gr.Row():\n",
        "            video_input = gr.Video(label=\"Input Video\")\n",
        "            video_output = gr.Video(label=\"Output Video\")\n",
        "        video_iou_threshold = gr.Slider(minimum=0, maximum=1, value=0.7, step=0.01, label=\"Intersection over Union (IoU) Threshold\")\n",
        "        video_score_threshold = gr.Slider(minimum=0, maximum=1, value=0.25, step=0.01, label=\"Score Threshold\")\n",
        "        video_class_list = gr.CheckboxGroup(label=\"Classes to detect for\", type=\"index\", interactive=True, value=classes,\n",
        "        choices=classes)\n",
        "        video_show_masks_only = gr.Checkbox(label=\"Show segmentation masks only? (Remove bounding boxes, labels and probabilites)\", interactive=True)\n",
        "        video_button = gr.Button(\"Submit\")\n",
        "        video_inputs_all = [video_input, video_iou_threshold, video_score_threshold, video_class_list, video_show_masks_only]\n",
        "        gr.Examples(examples=[[\"Examples/Videos/\" + example] for example in os.listdir(\"Examples/Videos\")], inputs=video_inputs_all, outputs=[video_output], cache_examples=True, fn=video_predict)\n",
        "\n",
        "\n",
        "    image_button.click(image_predict, inputs=image_inputs_all, outputs=[image_output])\n",
        "    video_button.click(video_predict, inputs=video_inputs_all, outputs=[video_output])\n",
        "\n",
        "demo.launch()"
      ]
    },
    {
      "cell_type": "code",
      "source": [
        "# Getting the model (made in previous notebook)\n",
        "!mv \"Segmentation-Model/Demo Preparation/best.pt\" \"demos/urban_segmentor\""
      ],
      "metadata": {
        "id": "G6Kl1wisx_S9"
      },
      "id": "G6Kl1wisx_S9",
      "execution_count": null,
      "outputs": []
    },
    {
      "cell_type": "code",
      "execution_count": null,
      "id": "7d15d31a-8437-46d6-bf0d-304cf9e22a5c",
      "metadata": {
        "colab": {
          "base_uri": "https://localhost:8080/"
        },
        "id": "7d15d31a-8437-46d6-bf0d-304cf9e22a5c",
        "outputId": "3f68b351-7a21-4f3e-9085-9b79229cb55a"
      },
      "outputs": [
        {
          "output_type": "stream",
          "name": "stdout",
          "text": [
            "  adding: app.py (deflated 66%)\n",
            "  adding: best.pt (deflated 8%)\n",
            "  adding: Examples/ (stored 0%)\n",
            "  adding: Examples/Images/ (stored 0%)\n",
            "  adding: Examples/Images/Example 1.png (deflated 0%)\n",
            "  adding: Examples/Images/Example 4.png (deflated 0%)\n",
            "  adding: Examples/Images/Example 2.png (deflated 0%)\n",
            "  adding: Examples/Images/Example 3.png (deflated 0%)\n",
            "  adding: Examples/.DS_Store (deflated 93%)\n",
            "  adding: Examples/Videos/ (stored 0%)\n",
            "  adding: Examples/Videos/Example 2.mp4 (deflated 1%)\n",
            "  adding: Examples/Videos/.DS_Store (deflated 96%)\n",
            "  adding: Examples/Videos/Example 1.mp4 (deflated 0%)\n",
            "  adding: Examples/Videos/Example 3.mp4 (deflated 0%)\n",
            "  adding: requirements.txt (deflated 7%)\n"
          ]
        }
      ],
      "source": [
        "# Zip folder but exclude certain files\n",
        "!cd demos/urban_segmentor && zip -r ../urban_segmentor.zip * -x \"*.pyc\" \"*.ipynb\" \"*__pycache__*\" \"*ipynb_checkpoints*\""
      ]
    },
    {
      "cell_type": "code",
      "source": [
        "from google.colab import files\n",
        "files.download('demos/urban_segmentor.zip')"
      ],
      "metadata": {
        "colab": {
          "base_uri": "https://localhost:8080/",
          "height": 17
        },
        "id": "iOb8RHFwyXHq",
        "outputId": "ec13c28d-5885-4f96-dabd-dad89c8a8c9a"
      },
      "id": "iOb8RHFwyXHq",
      "execution_count": null,
      "outputs": [
        {
          "output_type": "display_data",
          "data": {
            "text/plain": [
              "<IPython.core.display.Javascript object>"
            ],
            "application/javascript": [
              "\n",
              "    async function download(id, filename, size) {\n",
              "      if (!google.colab.kernel.accessAllowed) {\n",
              "        return;\n",
              "      }\n",
              "      const div = document.createElement('div');\n",
              "      const label = document.createElement('label');\n",
              "      label.textContent = `Downloading \"${filename}\": `;\n",
              "      div.appendChild(label);\n",
              "      const progress = document.createElement('progress');\n",
              "      progress.max = size;\n",
              "      div.appendChild(progress);\n",
              "      document.body.appendChild(div);\n",
              "\n",
              "      const buffers = [];\n",
              "      let downloaded = 0;\n",
              "\n",
              "      const channel = await google.colab.kernel.comms.open(id);\n",
              "      // Send a message to notify the kernel that we're ready.\n",
              "      channel.send({})\n",
              "\n",
              "      for await (const message of channel.messages) {\n",
              "        // Send a message to notify the kernel that we're ready.\n",
              "        channel.send({})\n",
              "        if (message.buffers) {\n",
              "          for (const buffer of message.buffers) {\n",
              "            buffers.push(buffer);\n",
              "            downloaded += buffer.byteLength;\n",
              "            progress.value = downloaded;\n",
              "          }\n",
              "        }\n",
              "      }\n",
              "      const blob = new Blob(buffers, {type: 'application/binary'});\n",
              "      const a = document.createElement('a');\n",
              "      a.href = window.URL.createObjectURL(blob);\n",
              "      a.download = filename;\n",
              "      div.appendChild(a);\n",
              "      a.click();\n",
              "      div.remove();\n",
              "    }\n",
              "  "
            ]
          },
          "metadata": {}
        },
        {
          "output_type": "display_data",
          "data": {
            "text/plain": [
              "<IPython.core.display.Javascript object>"
            ],
            "application/javascript": [
              "download(\"download_6fc517c3-d52b-436d-a026-946930f8490e\", \"urban_segmentor.zip\", 96770389)"
            ]
          },
          "metadata": {}
        }
      ]
    },
    {
      "cell_type": "markdown",
      "source": [
        "## Pushing the unzipped file to Hugging Face spaces will create the demo app.\n",
        "## Link to the app: https://huggingface.co/spaces/purplelord2003/Urban_Segmentor"
      ],
      "metadata": {
        "id": "X562YF6r0qes"
      },
      "id": "X562YF6r0qes"
    }
  ],
  "metadata": {
    "kernelspec": {
      "display_name": "Python 3",
      "name": "python3"
    },
    "language_info": {
      "codemirror_mode": {
        "name": "ipython",
        "version": 3
      },
      "file_extension": ".py",
      "mimetype": "text/x-python",
      "name": "python",
      "nbconvert_exporter": "python",
      "pygments_lexer": "ipython3",
      "version": "3.12.1"
    },
    "colab": {
      "provenance": []
    }
  },
  "nbformat": 4,
  "nbformat_minor": 5
}